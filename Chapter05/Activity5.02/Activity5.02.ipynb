{
 "cells": [
  {
   "cell_type": "code",
   "execution_count": 1,
   "metadata": {},
   "outputs": [],
   "source": [
    "import cv2 \n",
    "import numpy as np"
   ]
  },
  {
   "cell_type": "code",
   "execution_count": 2,
   "metadata": {},
   "outputs": [],
   "source": [
    "def detectionUsingCascades(imageFile, cascadeFile1, cascadeFile2):\n",
    "\n",
    "    \"\"\"This is a custom function which is responsible\n",
    "\n",
    "    for carrying out object detection using cascade model.\n",
    "\n",
    "    The function takes the filenames of both cascades and the image\n",
    "\n",
    "    filename as the input and returns the list of\n",
    "\n",
    "    bounding boxes around the detected object instances.\"\"\"\n",
    "\n",
    "    # Step 1 – Load the image\n",
    "    image = cv2.imread(imageFile)\n",
    "    # Create a copy of the image\n",
    "    imageCopy = image.copy()\n",
    "\n",
    "    # Step 2 – Convert the image from BGR to Grayscale\n",
    "    gray = cv2.cvtColor(image, cv2.COLOR_BGR2GRAY)\n",
    "\n",
    "    # Step 3 – Load the cascade\n",
    "    haarCascade1 = cv2.CascadeClassifier(cascadeFile1)\n",
    "    haarCascade2 = cv2.CascadeClassifier(cascadeFile2)\n",
    "\n",
    "    # Step 4 – Perform multi-scale detection\n",
    "    detectedObjects = haarCascade1.detectMultiScale(gray, 1.2, 9)\n",
    "\n",
    "    # Step 5 – Draw bounding boxes\n",
    "    for bbox in detectedObjects:\n",
    "        # Each bbox is a rectangle representing\n",
    "        # the bounding box around the detected object\n",
    "        x, y, w, h = bbox\n",
    "        cv2.rectangle(image, (x, y), (x+w, y+h), (0, 0, 255), 3)\n",
    "        # Cropped object\n",
    "        crop = gray[y:y+h, x:x+w]\n",
    "        imgCrop = imageCopy[y:y+h, x:x+w]\n",
    "        cv2.imwrite(\"crop.png\",imgCrop)\n",
    "        # Perform multi-scale detection\n",
    "        cropDetectedObjects = haarCascade2.detectMultiScale(crop, 1.2, 9)\n",
    "        for bbox2 in cropDetectedObjects:\n",
    "            X, Y, W, H = bbox2\n",
    "            cv2.rectangle(image, (x+X,y+Y), (x+X+W, y+Y+H), (255,0,0), 3)\n",
    "\n",
    "    # Step 6 – Display the output\n",
    "\n",
    "    cv2.imshow(\"Object Detection\", image)\n",
    "    cv2.waitKey(0)\n",
    "    cv2.imwrite(\"smile-combined-result.png\",image)\n",
    "    cv2.destroyAllWindows()\n",
    "\n",
    "    # Step 7 – Return the bounding boxes\n",
    "    return detectedObjects"
   ]
  },
  {
   "cell_type": "code",
   "execution_count": 3,
   "metadata": {},
   "outputs": [],
   "source": [
    "smileDetection = detectionUsingCascades(\"../data/eyes.jpeg\",\n",
    "                                      \"../data/haarcascade_frontalface_default.xml\",\n",
    "                                      \"../data/haarcascade_smile.xml\")"
   ]
  }
 ],
 "metadata": {
  "kernelspec": {
   "display_name": "Python 3",
   "language": "python",
   "name": "python3"
  },
  "language_info": {
   "codemirror_mode": {
    "name": "ipython",
    "version": 3
   },
   "file_extension": ".py",
   "mimetype": "text/x-python",
   "name": "python",
   "nbconvert_exporter": "python",
   "pygments_lexer": "ipython3",
   "version": "3.7.1"
  }
 },
 "nbformat": 4,
 "nbformat_minor": 4
}
