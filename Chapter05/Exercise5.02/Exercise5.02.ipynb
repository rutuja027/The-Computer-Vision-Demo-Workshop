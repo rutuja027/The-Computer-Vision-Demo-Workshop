{
 "cells": [
  {
   "cell_type": "code",
   "execution_count": null,
   "metadata": {},
   "outputs": [],
   "source": [
    "import cv2 \n",
    "import numpy as np "
   ]
  },
  {
   "cell_type": "code",
   "execution_count": null,
   "metadata": {},
   "outputs": [],
   "source": [
    "import matplotlib.pyplot as plt"
   ]
  },
  {
   "cell_type": "code",
   "execution_count": null,
   "metadata": {},
   "outputs": [],
   "source": [
    "inputImagePath = \"../data/eyes.jpeg\"\n",
    "\n",
    "haarCascadePath = \"../data/haarcascade_eye.xml\""
   ]
  },
  {
   "cell_type": "code",
   "execution_count": null,
   "metadata": {},
   "outputs": [],
   "source": [
    "def detectionUsingCascades(imageFile, cascadeFile):\n",
    "\n",
    "    \"\"\"This is a custom function which is responsible\n",
    "\n",
    "    for carrying out object detection using cascade model.\n",
    "\n",
    "    The function takes the cascade filename and the image\n",
    "\n",
    "    filename as the input and returns the list of\n",
    "\n",
    "    bounding boxes around the detected object instances.\"\"\"\n",
    "\n",
    "    # Step 1 – Load the image\n",
    "    image = cv2.imread(imageFile)\n",
    "\n",
    "    # Step 2 – Convert the image from BGR to Grayscale\n",
    "    gray = cv2.cvtColor(image, cv2.COLOR_BGR2GRAY)\n",
    "\n",
    "    # Step 3 – Load the cascade\n",
    "    haarCascade = cv2.CascadeClassifier(cascadeFile)\n",
    "\n",
    "    # Step 4 – Perform multi-scale detection\n",
    "    detectedObjects = haarCascade.detectMultiScale(gray, 1.2, 2)\n",
    "\n",
    "    # Step 5 – Draw bounding boxes\n",
    "    for bbox in detectedObjects:\n",
    "        # Each bbox is a rectangle representing\n",
    "        # the bounding box around the detected object\n",
    "        x, y, w, h = bbox\n",
    "        cv2.rectangle(image, (x, y), (x+w, y+h), (0, 0, 255), 3)\n",
    "\n",
    "    # Step 6 – Display the output\n",
    "\n",
    "    cv2.imshow(\"Object Detection\", image)\n",
    "    cv2.waitKey(0)\n",
    "    cv2.destroyAllWindows()\n",
    "\n",
    "    # Step 7 – Return the bounding boxes\n",
    "    return detectedObjects"
   ]
  },
  {
   "cell_type": "code",
   "execution_count": null,
   "metadata": {},
   "outputs": [],
   "source": [
    "eyeDetection = detectionUsingCascades(\"../data/eyes.jpeg\",\n",
    "                                      \"../data/haarcascade_eye.xml\")"
   ]
  }
 ],
 "metadata": {
  "kernelspec": {
   "display_name": "Python 3",
   "language": "python",
   "name": "python3"
  },
  "language_info": {
   "codemirror_mode": {
    "name": "ipython",
    "version": 3
   },
   "file_extension": ".py",
   "mimetype": "text/x-python",
   "name": "python",
   "nbconvert_exporter": "python",
   "pygments_lexer": "ipython3",
   "version": "3.6.9"
  }
 },
 "nbformat": 4,
 "nbformat_minor": 4
}
